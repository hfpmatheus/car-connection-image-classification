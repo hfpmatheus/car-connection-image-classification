{
 "cells": [
  {
   "cell_type": "code",
   "execution_count": 15,
   "metadata": {},
   "outputs": [],
   "source": [
    "from utils.common import *\n",
    "import os\n",
    "from tqdm import tqdm\n",
    "import shutil"
   ]
  },
  {
   "cell_type": "code",
   "execution_count": 5,
   "metadata": {},
   "outputs": [],
   "source": [
    "change_to_root_dir()"
   ]
  },
  {
   "cell_type": "code",
   "execution_count": 19,
   "metadata": {},
   "outputs": [
    {
     "name": "stderr",
     "output_type": "stream",
     "text": [
      "100%|██████████| 64467/64467 [01:04<00:00, 995.71it/s] \n"
     ]
    }
   ],
   "source": [
    "car_connection_folder_path = 'artifacts/data/thecarconnectionpicturedataset/'\n",
    "car_connection_preprocessed_folder_path = 'artifacts/data/car-connection-by-brand/'\n",
    "\n",
    "files = os.listdir(car_connection_folder_path)\n",
    "\n",
    "for filename in tqdm(files):\n",
    "    filepath = os.path.join(car_connection_folder_path, filename)\n",
    "\n",
    "    # Check if file ends with .jpg\n",
    "    if not filename.endswith('.jpg'):\n",
    "        os.remove(filepath)\n",
    "\n",
    "    car_brand_name = filename.split('_')[0]\n",
    "    car_brand_dir = os.path.join(car_connection_preprocessed_folder_path, car_brand_name)\n",
    "    \n",
    "    os.makedirs(car_brand_dir, exist_ok=True)\n",
    "    \n",
    "    shutil.move(filepath, car_brand_dir)"
   ]
  }
 ],
 "metadata": {
  "kernelspec": {
   "display_name": "car-connection-venv",
   "language": "python",
   "name": "python3"
  },
  "language_info": {
   "codemirror_mode": {
    "name": "ipython",
    "version": 3
   },
   "file_extension": ".py",
   "mimetype": "text/x-python",
   "name": "python",
   "nbconvert_exporter": "python",
   "pygments_lexer": "ipython3",
   "version": "3.10.0"
  },
  "orig_nbformat": 4
 },
 "nbformat": 4,
 "nbformat_minor": 2
}
